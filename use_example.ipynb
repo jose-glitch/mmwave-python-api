{
 "cells": [
  {
   "cell_type": "code",
   "execution_count": 1,
   "metadata": {},
   "outputs": [
    {
     "name": "stdout",
     "output_type": "stream",
     "text": [
      "Slope 29982000000000.0\n",
      "Bandwith 1798.9199999999998 GHz\n",
      "Minimum Frame Periodicity: 61.44 ms\n",
      "Chirps Per Frame: 384\n",
      "Num Range Bins: 256\n",
      "Range Resolution: 0.0833256781846886 m\n",
      "Max Unambiguous Range: 19.198236253752253 m\n",
      "Num Doppler Bins: 128\n",
      "Doppler Resolution: 0.04066195448133681 m/s\n",
      "Max Doppler: 2.602365086805556 m/s\n",
      "Num Azimuth Bins: 64\n",
      "Num Elevation Bins: 32\n"
     ]
    }
   ],
   "source": [
    "import pickle\n",
    "import numpy as np\n",
    "import heatmaps\n",
    "# from animated_plots import animateFFTRange, animateRangeHeatmap, animateDopplerRangeHeatmap, animateAzimuthRangeHeatmap\n",
    "from fourier import rangeFFT, angleFFT, dopplerFFT\n",
    "from params import PARAMS\n",
    "from raw_signal import RadarData, plot_signal\n",
    "import matplotlib.pyplot as plt\n",
    "from time import sleep as sleep\n",
    "from IPython.display import display, clear_output"
   ]
  },
  {
   "cell_type": "code",
   "execution_count": 2,
   "metadata": {},
   "outputs": [
    {
     "name": "stdout",
     "output_type": "stream",
     "text": [
      "Device IWR6843ISK-ODS\n",
      "TX Antennas 3\n",
      "RX Antennas 4\n",
      "Number of loops 128\n",
      "ADC Samples 256\n"
     ]
    },
    {
     "data": {
      "text/plain": [
       "Text(0, 0.5, 'Doppler (m/s)')"
      ]
     },
     "execution_count": 2,
     "metadata": {},
     "output_type": "execute_result"
    },
    {
     "data": {
      "image/png": "[encoded data removed]",
      "text/plain": [
       "<Figure size 640x480 with 2 Axes>"
      ]
     },
     "metadata": {},
     "output_type": "display_data"
    }
   ],
   "source": [
    "# Load data from file\n",
    "data = pickle.load(open('data\\openradar_25-01-23_QMUL-MCR.dat', 'rb'))\n",
    "# Configure playback mode\n",
    "config = data['config']\n",
    "PARAMS.set_playback_mode(config)\n",
    "# Read main parameters\n",
    "rdata = RadarData(device='IWR6843ISK-ODS',\n",
    "                  tx=PARAMS.TX_ANTENNAS,\n",
    "                  rx=PARAMS.RX_ANTENNAS,\n",
    "                  loops=PARAMS.CHIRP_LOOPS,\n",
    "                  samples=PARAMS.ADC_SAMPLES)\n",
    "\n",
    "# Get data frame\n",
    "frames = data['data']\n",
    "# Choose frame\n",
    "adc_data = frames[2]\n",
    "# Set RadarData raw_data\n",
    "rdata.raw_data = adc_data\n",
    "# Access data separated by Rx and Tx antennas\n",
    "v_array = rdata.separated_vx_data\n",
    "## Doppler FFT\n",
    "[dFFT, dBins, rBins] = dopplerFFT(v_array)\n",
    "\n",
    "fig, ax = plt.subplots()\n",
    "c = ax.pcolormesh(rBins[:60], dBins, abs(dFFT[:,:60]))\n",
    "fig.colorbar(c, ax=ax)\n",
    "ax.set_title('Doppler-Range Heatmap')\n",
    "ax.set_xlabel('Range (m)')\n",
    "ax.set_ylabel('Doppler (m/s)')\n"
   ]
  },
  {
   "cell_type": "code",
   "execution_count": 4,
   "metadata": {},
   "outputs": [],
   "source": [
    "\n",
    "for n in range(np.size(frames,0)):\n",
    "    # Choose frame\n",
    "    adc_data = frames[n]\n",
    "    # Set RadarData raw_data\n",
    "    rdata.raw_data = adc_data\n",
    "    # Access data separated by Rx and Tx antennas\n",
    "    v_array = rdata.separated_vx_data\n",
    "    ## Doppler FFT\n",
    "    [dFFT, dBins, rBins] = dopplerFFT(v_array)\n",
    "    c.set_array(dFFT[:,:60])\n",
    "    # plt.show()\n",
    "    # fig.savefig('images/doppler'+str(n))\n",
    "\n",
    "    clear_output(wait = True)\n",
    "    plt.pause(0.01)"
   ]
  },
  {
   "cell_type": "code",
   "execution_count": null,
   "metadata": {},
   "outputs": [],
   "source": [
    "## 1D RANGE FFT and radar cube\n",
    "[RC, rFFT, rBins] = rangeFFT(v_array[1,:,:],rdata.device)\n",
    "# The range profile can be extracted from this as\n",
    "# plt.plot(rBins[8:],np.mean(abs(rFFT),axis=0)[8:])\n",
    "# plt.show()"
   ]
  },
  {
   "cell_type": "code",
   "execution_count": null,
   "metadata": {},
   "outputs": [],
   "source": [
    "## 2D AZIMUTH & ELEVATION FFTs\n",
    "[aFFT, eFFT, aBins, eBins] = angleFFT(RC)"
   ]
  },
  {
   "cell_type": "code",
   "execution_count": null,
   "metadata": {},
   "outputs": [],
   "source": [
    "# Polar heatmaps\n",
    "# heatmaps.plotAzimuthRangeHeatmap(rBins[:80],aBins[1:],aFFT[1:,:80])\n",
    "# heatmaps.plotElevationRangeHeatmap(rBins[:80],eBins[1:],eFFT[1:,:80])\n",
    "# Cartesian HEATMAP\n",
    "# heatmaps.plotXYheatmap(rBins[:60],aBins[1:],aFFT[1:,:60])"
   ]
  },
  {
   "cell_type": "code",
   "execution_count": null,
   "metadata": {},
   "outputs": [],
   "source": [
    "## Doppler FFT\n",
    "[dFFT, dBins, rBins] = dopplerFFT(v_array)\n",
    "\n",
    "heatmaps.plotDopplerRangeHeatmap(rBins[:60],dBins,abs(dFFT[:,:60]))"
   ]
  }
 ],
 "metadata": {
  "kernelspec": {
   "display_name": "Python 3",
   "language": "python",
   "name": "python3"
  },
  "language_info": {
   "codemirror_mode": {
    "name": "ipython",
    "version": 3
   },
   "file_extension": ".py",
   "mimetype": "text/x-python",
   "name": "python",
   "nbconvert_exporter": "python",
   "pygments_lexer": "ipython3",
   "version": "3.10.9"
  },
  "orig_nbformat": 4,
  "vscode": {
   "interpreter": {
    "hash": "4e7efc42d5e4bc2b67ee863baeb9286739d14e5f3fe7d38bc4a66907712e8135"
   }
  }
 },
 "nbformat": 4,
 "nbformat_minor": 2
}
